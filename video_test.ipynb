{
 "cells": [
  {
   "cell_type": "code",
   "execution_count": 15,
   "metadata": {},
   "outputs": [],
   "source": [
    "import sys\n",
    "import os\n",
    "import cv2\n",
    "import face_recognition\n",
    "import imutils\n",
    "import time"
   ]
  },
  {
   "cell_type": "code",
   "execution_count": 16,
   "metadata": {},
   "outputs": [],
   "source": [
    "path = '/Users/Z.Steinberg/Documents/Current Classes/Capstone/capstone/Facial Recognition/testing/vids'\n",
    "movie = 'zach.mp4'"
   ]
  },
  {
   "cell_type": "code",
   "execution_count": 17,
   "metadata": {},
   "outputs": [],
   "source": [
    "known_pics = os.listdir('/Users/Z.Steinberg/Documents/Current Classes/Capstone/capstone/Facial Recognition/testing/known_pics')\n",
    "pic_path = '/Users/Z.Steinberg/Documents/Current Classes/Capstone/capstone/Facial Recognition/testing/known_pics'"
   ]
  },
  {
   "cell_type": "code",
   "execution_count": 18,
   "metadata": {},
   "outputs": [],
   "source": [
    "vid_path = os.path.join(path,movie)"
   ]
  },
  {
   "cell_type": "code",
   "execution_count": 19,
   "metadata": {},
   "outputs": [],
   "source": [
    "input_movie = cv2.VideoCapture(vid_path)"
   ]
  },
  {
   "cell_type": "code",
   "execution_count": 12,
   "metadata": {},
   "outputs": [
    {
     "data": {
      "text/plain": [
       "[]"
      ]
     },
     "execution_count": 12,
     "metadata": {},
     "output_type": "execute_result"
    }
   ],
   "source": [
    "enc"
   ]
  },
  {
   "cell_type": "code",
   "execution_count": 20,
   "metadata": {},
   "outputs": [],
   "source": [
    "# Encode Known Pictures\n",
    "encodings = []\n",
    "names = []\n",
    "# for pic in known_pics:\n",
    "pic = 'lukeSkywalker.jpg'\n",
    "img = face_recognition.load_image_file(os.path.join(pic_path,pic))\n",
    "enc = face_recognition.face_encodings(img)[0]\n",
    "name = pic[:-4]\n",
    "encodings.append(enc)\n",
    "names.append(name)"
   ]
  },
  {
   "cell_type": "code",
   "execution_count": 8,
   "metadata": {},
   "outputs": [
    {
     "name": "stdout",
     "output_type": "stream",
     "text": [
      "{'ZachSteinberg': [], 'MichaelPichardo': [], 'DylanZubata': [], 'ArnobDam': []}\n"
     ]
    }
   ],
   "source": [
    "face_info = {}\n",
    "for name in names:\n",
    "    face_info[name] = []\n",
    "print(face_info)"
   ]
  },
  {
   "cell_type": "code",
   "execution_count": 21,
   "metadata": {},
   "outputs": [],
   "source": [
    "# Initialize some variables\n",
    "face_locations = []\n",
    "face_encodings = []\n",
    "face_names = []\n",
    "frame_number = 0"
   ]
  },
  {
   "cell_type": "code",
   "execution_count": 18,
   "metadata": {},
   "outputs": [
    {
     "name": "stdout",
     "output_type": "stream",
     "text": [
      "[(210, 357, 414, 153)]\n",
      "Num Matches: 1\n",
      "Matched with: ZachSteinberg\n",
      "Recorded Distances\n"
     ]
    }
   ],
   "source": [
    "\n",
    "#     Get Frame\n",
    "ret, frame = input_movie.read()\n",
    "\n",
    "#     Quit when movie ends\n",
    "# print(ret)\n",
    "# print(frame)\n",
    "\n",
    "#         Convert to RGB\n",
    "# frame = frame[:,:,::-1]\n",
    "# frame = imutils.rotate(frame,-90)\n",
    "frame = imutils.resize(frame, width=400)\n",
    "\n",
    "#     Locations and encodings\n",
    "locations = face_recognition.face_locations(frame, model='cnn')\n",
    "face_encs = face_recognition.face_encodings(frame,locations)\n",
    "print(locations)\n",
    "\n",
    "for enc in face_encs:\n",
    "    match = face_recognition.compare_faces(encodings,enc, tolerance=0.50)\n",
    "    distances = face_recognition.face_distance(encodings,enc)\n",
    "\n",
    "    num_times = match.count(True)\n",
    "    print('Num Matches: ' + str(num_times))\n",
    "\n",
    "    name = names[match.index(True)]\n",
    "    print('Matched with: '+str(name))\n",
    "    for i in range(len(distances)):\n",
    "        face_info[names[i]].append(distances[i])\n",
    "    print(\"Recorded Distances\")\n",
    "\n",
    "        "
   ]
  },
  {
   "cell_type": "code",
   "execution_count": 22,
   "metadata": {},
   "outputs": [
    {
     "data": {
      "text/plain": [
       "True"
      ]
     },
     "execution_count": 22,
     "metadata": {},
     "output_type": "execute_result"
    }
   ],
   "source": [
    "ret, frame = input_movie.read()\n",
    "cv2.imwrite('frame1.jpg',frame)"
   ]
  },
  {
   "cell_type": "code",
   "execution_count": 17,
   "metadata": {},
   "outputs": [
    {
     "ename": "AttributeError",
     "evalue": "'bool' object has no attribute 'height'",
     "output_type": "error",
     "traceback": [
      "\u001b[0;31m---------------------------------------------------------------------------\u001b[0m",
      "\u001b[0;31mAttributeError\u001b[0m                            Traceback (most recent call last)",
      "\u001b[0;32m<ipython-input-17-68e088672fae>\u001b[0m in \u001b[0;36m<module>\u001b[0;34m\u001b[0m\n\u001b[1;32m      1\u001b[0m \u001b[0mframe\u001b[0m \u001b[0;34m=\u001b[0m \u001b[0mimutils\u001b[0m\u001b[0;34m.\u001b[0m\u001b[0mresize\u001b[0m\u001b[0;34m(\u001b[0m\u001b[0mframe\u001b[0m\u001b[0;34m,\u001b[0m \u001b[0mheight\u001b[0m\u001b[0;34m=\u001b[0m\u001b[0;36m400\u001b[0m\u001b[0;34m,\u001b[0m \u001b[0mwidth\u001b[0m\u001b[0;34m=\u001b[0m\u001b[0;36m400\u001b[0m\u001b[0;34m)\u001b[0m\u001b[0;34m\u001b[0m\u001b[0;34m\u001b[0m\u001b[0m\n\u001b[1;32m      2\u001b[0m \u001b[0mimg\u001b[0m \u001b[0;34m=\u001b[0m \u001b[0mcv2\u001b[0m\u001b[0;34m.\u001b[0m\u001b[0mimwrite\u001b[0m\u001b[0;34m(\u001b[0m\u001b[0;34m\"frame.jpg\"\u001b[0m\u001b[0;34m,\u001b[0m \u001b[0mframe\u001b[0m\u001b[0;34m)\u001b[0m\u001b[0;34m\u001b[0m\u001b[0;34m\u001b[0m\u001b[0m\n\u001b[0;32m----> 3\u001b[0;31m \u001b[0mimg\u001b[0m\u001b[0;34m.\u001b[0m\u001b[0mheight\u001b[0m\u001b[0;34m\u001b[0m\u001b[0;34m\u001b[0m\u001b[0m\n\u001b[0m",
      "\u001b[0;31mAttributeError\u001b[0m: 'bool' object has no attribute 'height'"
     ]
    }
   ],
   "source": [
    "\n",
    "frame = imutils.resize(frame, height=400, width=400)\n",
    "img = cv2.imwrite(\"frame.jpg\", frame)"
   ]
  },
  {
   "cell_type": "code",
   "execution_count": 7,
   "metadata": {},
   "outputs": [
    {
     "data": {
      "text/plain": [
       "['ZachSteinberg.jpg',\n",
       " 'lukeSkywalker.jpg',\n",
       " 'MichaelPichardo.jpg',\n",
       " 'DylanZubata.jpg',\n",
       " 'ArnobDam.jpg']"
      ]
     },
     "execution_count": 7,
     "metadata": {},
     "output_type": "execute_result"
    }
   ],
   "source": [
    "known_pics"
   ]
  },
  {
   "cell_type": "code",
   "execution_count": 8,
   "metadata": {},
   "outputs": [],
   "source": [
    "pic = known_pics.index('ZachSteinberg.jpg')"
   ]
  },
  {
   "cell_type": "code",
   "execution_count": 9,
   "metadata": {},
   "outputs": [
    {
     "data": {
      "text/plain": [
       "0"
      ]
     },
     "execution_count": 9,
     "metadata": {},
     "output_type": "execute_result"
    }
   ],
   "source": [
    "pic"
   ]
  },
  {
   "cell_type": "code",
   "execution_count": 15,
   "metadata": {},
   "outputs": [
    {
     "data": {
      "text/plain": [
       "['ZachSteinberg.jpg',\n",
       " 'lukeSkywalker.jpg',\n",
       " 'MichaelPichardo.jpg',\n",
       " 'DylanZubata.jpg',\n",
       " 'ArnobDam.jpg']"
      ]
     },
     "execution_count": 15,
     "metadata": {},
     "output_type": "execute_result"
    }
   ],
   "source": [
    "known_pics"
   ]
  },
  {
   "cell_type": "code",
   "execution_count": 35,
   "metadata": {},
   "outputs": [],
   "source": [
    "known_pics = os.listdir('/Users/Z.Steinberg/Documents/Current Classes/Capstone/capstone/Facial Recognition/testing/known_pics')\n",
    "pic_path = '/Users/Z.Steinberg/Documents/Current Classes/Capstone/capstone/Facial Recognition/testing/known_pics'"
   ]
  },
  {
   "cell_type": "code",
   "execution_count": 36,
   "metadata": {},
   "outputs": [],
   "source": [
    "start_time = time.time()\n",
    "vid_path = os.path.join(path,movie)\n",
    "input_movie = cv2.VideoCapture(vid_path)"
   ]
  },
  {
   "cell_type": "code",
   "execution_count": 39,
   "metadata": {},
   "outputs": [
    {
     "name": "stdout",
     "output_type": "stream",
     "text": [
      "ZachSteinberg.jpg\n",
      "[[[149 132 112]\n",
      "  [169 152 132]\n",
      "  [156 139 119]\n",
      "  ...\n",
      "  [ 75  76  36]\n",
      "  [ 70  71  31]\n",
      "  [ 79  80  40]]\n",
      "\n",
      " [[148 132 109]\n",
      "  [168 151 131]\n",
      "  [160 143 123]\n",
      "  ...\n",
      "  [ 74  75  35]\n",
      "  [ 71  72  32]\n",
      "  [ 76  77  37]]\n",
      "\n",
      " [[146 130 107]\n",
      "  [163 146 126]\n",
      "  [163 146 126]\n",
      "  ...\n",
      "  [ 73  74  34]\n",
      "  [ 73  74  34]\n",
      "  [ 75  76  36]]\n",
      "\n",
      " ...\n",
      "\n",
      " [[ 52  55  44]\n",
      "  [ 52  55  44]\n",
      "  [ 53  56  45]\n",
      "  ...\n",
      "  [ 61  67  55]\n",
      "  [ 64  70  58]\n",
      "  [ 66  72  60]]\n",
      "\n",
      " [[ 52  55  44]\n",
      "  [ 52  55  44]\n",
      "  [ 53  56  45]\n",
      "  ...\n",
      "  [ 59  65  53]\n",
      "  [ 60  66  54]\n",
      "  [ 60  66  54]]\n",
      "\n",
      " [[ 51  54  43]\n",
      "  [ 52  55  44]\n",
      "  [ 52  55  44]\n",
      "  ...\n",
      "  [ 58  64  52]\n",
      "  [ 57  63  51]\n",
      "  [ 57  63  51]]]\n",
      "lukeSkywalker.jpg\n",
      "[[[163 164 168]\n",
      "  [163 164 168]\n",
      "  [163 164 168]\n",
      "  ...\n",
      "  [163 164 168]\n",
      "  [163 164 168]\n",
      "  [163 164 168]]\n",
      "\n",
      " [[163 164 168]\n",
      "  [163 164 168]\n",
      "  [163 164 168]\n",
      "  ...\n",
      "  [163 164 168]\n",
      "  [163 164 168]\n",
      "  [163 164 168]]\n",
      "\n",
      " [[163 164 168]\n",
      "  [163 164 168]\n",
      "  [163 164 168]\n",
      "  ...\n",
      "  [163 164 168]\n",
      "  [163 164 168]\n",
      "  [163 164 168]]\n",
      "\n",
      " ...\n",
      "\n",
      " [[  5   6  11]\n",
      "  [  1   2   7]\n",
      "  [  0   1   6]\n",
      "  ...\n",
      "  [ 13  13  23]\n",
      "  [ 14  14  24]\n",
      "  [ 14  14  24]]\n",
      "\n",
      " [[  5   6  11]\n",
      "  [  2   3   8]\n",
      "  [  1   2   7]\n",
      "  ...\n",
      "  [ 13  13  23]\n",
      "  [ 13  13  23]\n",
      "  [ 14  14  24]]\n",
      "\n",
      " [[  6   7  12]\n",
      "  [  2   3   8]\n",
      "  [  2   3   8]\n",
      "  ...\n",
      "  [ 12  12  22]\n",
      "  [ 13  13  23]\n",
      "  [ 13  13  23]]]\n"
     ]
    },
    {
     "ename": "IndexError",
     "evalue": "list index out of range",
     "output_type": "error",
     "traceback": [
      "\u001b[0;31m---------------------------------------------------------------------------\u001b[0m",
      "\u001b[0;31mIndexError\u001b[0m                                Traceback (most recent call last)",
      "\u001b[0;32m<ipython-input-39-e2c5e0f43388>\u001b[0m in \u001b[0;36m<module>\u001b[0;34m\u001b[0m\n\u001b[1;32m      6\u001b[0m     \u001b[0mimg\u001b[0m \u001b[0;34m=\u001b[0m \u001b[0mface_recognition\u001b[0m\u001b[0;34m.\u001b[0m\u001b[0mload_image_file\u001b[0m\u001b[0;34m(\u001b[0m\u001b[0mos\u001b[0m\u001b[0;34m.\u001b[0m\u001b[0mpath\u001b[0m\u001b[0;34m.\u001b[0m\u001b[0mjoin\u001b[0m\u001b[0;34m(\u001b[0m\u001b[0mpic_path\u001b[0m\u001b[0;34m,\u001b[0m\u001b[0mpic\u001b[0m\u001b[0;34m)\u001b[0m\u001b[0;34m)\u001b[0m\u001b[0;34m\u001b[0m\u001b[0;34m\u001b[0m\u001b[0m\n\u001b[1;32m      7\u001b[0m     \u001b[0mprint\u001b[0m\u001b[0;34m(\u001b[0m\u001b[0mimg\u001b[0m\u001b[0;34m)\u001b[0m\u001b[0;34m\u001b[0m\u001b[0;34m\u001b[0m\u001b[0m\n\u001b[0;32m----> 8\u001b[0;31m     \u001b[0menc\u001b[0m \u001b[0;34m=\u001b[0m \u001b[0mface_recognition\u001b[0m\u001b[0;34m.\u001b[0m\u001b[0mface_encodings\u001b[0m\u001b[0;34m(\u001b[0m\u001b[0mimg\u001b[0m\u001b[0;34m)\u001b[0m\u001b[0;34m[\u001b[0m\u001b[0;36m0\u001b[0m\u001b[0;34m]\u001b[0m\u001b[0;34m\u001b[0m\u001b[0;34m\u001b[0m\u001b[0m\n\u001b[0m\u001b[1;32m      9\u001b[0m     \u001b[0mname\u001b[0m \u001b[0;34m=\u001b[0m \u001b[0mpic\u001b[0m\u001b[0;34m[\u001b[0m\u001b[0;34m:\u001b[0m\u001b[0;34m-\u001b[0m\u001b[0;36m4\u001b[0m\u001b[0;34m]\u001b[0m\u001b[0;34m\u001b[0m\u001b[0;34m\u001b[0m\u001b[0m\n\u001b[1;32m     10\u001b[0m     \u001b[0mencodings\u001b[0m\u001b[0;34m.\u001b[0m\u001b[0mappend\u001b[0m\u001b[0;34m(\u001b[0m\u001b[0menc\u001b[0m\u001b[0;34m)\u001b[0m\u001b[0;34m\u001b[0m\u001b[0;34m\u001b[0m\u001b[0m\n",
      "\u001b[0;31mIndexError\u001b[0m: list index out of range"
     ]
    }
   ],
   "source": [
    "# Encode Known Pictures\n",
    "encodings = []\n",
    "names = []\n",
    "for pic in known_pics:\n",
    "    print(pic)\n",
    "    img = face_recognition.load_image_file(os.path.join(pic_path,pic))\n",
    "    print(img)\n",
    "    enc = face_recognition.face_encodings(img)[0]\n",
    "    name = pic[:-4]\n",
    "    encodings.append(enc)\n",
    "    names.append(name)\n",
    "# for pic in known_pics:\n",
    "# \timg = face_recognition.load_image_file(os.path.join(pic_path,pic))\n",
    "# \tenc = face_recognition.face_encodings(img)[0]\n",
    "# \tname = pic[:-4]\n",
    "# \tencodings.append(enc)\n",
    "# \tnames.append(name)\n",
    "print(\"encodings finished\")"
   ]
  },
  {
   "cell_type": "code",
   "execution_count": 38,
   "metadata": {},
   "outputs": [
    {
     "data": {
      "text/plain": [
       "['ZachSteinberg.jpg',\n",
       " 'lukeSkywalker.jpg',\n",
       " 'MichaelPichardo.jpg',\n",
       " 'DylanZubata.jpg',\n",
       " 'ArnobDam.jpg']"
      ]
     },
     "execution_count": 38,
     "metadata": {},
     "output_type": "execute_result"
    }
   ],
   "source": [
    "known_pics"
   ]
  },
  {
   "cell_type": "code",
   "execution_count": null,
   "metadata": {},
   "outputs": [],
   "source": []
  }
 ],
 "metadata": {
  "kernelspec": {
   "display_name": "Python 3.7.6 64-bit",
   "language": "python",
   "name": "python37664bitace61cc4669b4b7487d2af57c61c3371"
  },
  "language_info": {
   "codemirror_mode": {
    "name": "ipython",
    "version": 3
   },
   "file_extension": ".py",
   "mimetype": "text/x-python",
   "name": "python",
   "nbconvert_exporter": "python",
   "pygments_lexer": "ipython3",
   "version": "3.7.6"
  }
 },
 "nbformat": 4,
 "nbformat_minor": 4
}
