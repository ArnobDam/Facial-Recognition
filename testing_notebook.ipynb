{
 "cells": [
  {
   "cell_type": "code",
   "execution_count": 1,
   "metadata": {},
   "outputs": [],
   "source": [
    "from imutils.video import VideoStream\n",
    "from PIL import Image\n",
    "import datetime\n",
    "import imutils \n",
    "import time \n",
    "import cv2 \n",
    "import face_recognition\n",
    "import os"
   ]
  },
  {
   "cell_type": "code",
   "execution_count": 44,
   "metadata": {},
   "outputs": [],
   "source": [
    "known_pics = os.listdir('/Users/Z.Steinberg/Documents/Current Classes/Capstone/capstone/Facial Recognition/testing/known_pics')\n",
    "pic_path = '/Users/Z.Steinberg/Documents/Current Classes/Capstone/capstone/Facial Recognition/testing/known_pics'"
   ]
  },
  {
   "cell_type": "code",
   "execution_count": 46,
   "metadata": {},
   "outputs": [],
   "source": [
    "# Encode Known Pictures\n",
    "encodings = []\n",
    "names = []\n",
    "for pic in known_pics:\n",
    "\timg = face_recognition.load_image_file(os.path.join(pic_path,pic))\n",
    "\tenc = face_recognition.face_encodings(img)[0]\n",
    "\tname = pic[:-4]\n",
    "\tencodings.append(enc)\n",
    "\tnames.append(name)"
   ]
  },
  {
   "cell_type": "code",
   "execution_count": 47,
   "metadata": {},
   "outputs": [],
   "source": [
    "frame = cv2.imread('IMG_3539.jpg')\n",
    "frame = imutils.resize(frame, width=400)"
   ]
  },
  {
   "cell_type": "code",
   "execution_count": 48,
   "metadata": {},
   "outputs": [],
   "source": [
    "face_locations = face_recognition.face_locations(frame, model=\"cnn\")\n",
    "face_encodings = face_recognition.face_encodings(frame, face_locations)"
   ]
  },
  {
   "cell_type": "code",
   "execution_count": 49,
   "metadata": {},
   "outputs": [],
   "source": [
    "for encoding in face_encodings:\n",
    "    matches = face_recognition.compare_faces(encodings, encoding)"
   ]
  },
  {
   "cell_type": "code",
   "execution_count": 50,
   "metadata": {},
   "outputs": [],
   "source": [
    "for encoding in face_encodings:\n",
    "    face_distances = face_recognition.face_distance(encodings, encoding)"
   ]
  },
  {
   "cell_type": "code",
   "execution_count": 51,
   "metadata": {},
   "outputs": [
    {
     "data": {
      "text/plain": [
       "['ZachSteinberg.jpg', 'MichaelPichardo.jpg', 'DylanZubata.jpg', 'ArnobDam.jpg']"
      ]
     },
     "execution_count": 51,
     "metadata": {},
     "output_type": "execute_result"
    }
   ],
   "source": [
    "known_pics"
   ]
  },
  {
   "cell_type": "code",
   "execution_count": 52,
   "metadata": {},
   "outputs": [
    {
     "data": {
      "text/plain": [
       "array([0.47616082, 0.7272791 , 0.81644605, 0.81678924])"
      ]
     },
     "execution_count": 52,
     "metadata": {},
     "output_type": "execute_result"
    }
   ],
   "source": [
    "face_distances"
   ]
  },
  {
   "cell_type": "code",
   "execution_count": 53,
   "metadata": {},
   "outputs": [
    {
     "data": {
      "text/plain": [
       "[True, False, False, False]"
      ]
     },
     "execution_count": 53,
     "metadata": {},
     "output_type": "execute_result"
    }
   ],
   "source": [
    "matches"
   ]
  },
  {
   "cell_type": "code",
   "execution_count": null,
   "metadata": {},
   "outputs": [],
   "source": []
  }
 ],
 "metadata": {
  "kernelspec": {
   "display_name": "Python 3.7.6 64-bit",
   "language": "python",
   "name": "python37664bitace61cc4669b4b7487d2af57c61c3371"
  },
  "language_info": {
   "codemirror_mode": {
    "name": "ipython",
    "version": 3
   },
   "file_extension": ".py",
   "mimetype": "text/x-python",
   "name": "python",
   "nbconvert_exporter": "python",
   "pygments_lexer": "ipython3",
   "version": "3.7.6"
  }
 },
 "nbformat": 4,
 "nbformat_minor": 4
}
