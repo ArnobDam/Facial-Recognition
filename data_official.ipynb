{
 "cells": [
  {
   "cell_type": "code",
   "execution_count": 1,
   "metadata": {},
   "outputs": [],
   "source": [
    "import pandas as pd\n",
    "import numpy as np\n",
    "from qiskit.visualization import plot_histogram"
   ]
  },
  {
   "cell_type": "code",
   "execution_count": 2,
   "metadata": {},
   "outputs": [],
   "source": [
    "dfH = pd.read_csv('csv/andrewHoG.csv')\n",
    "dfC = pd.read_csv('csv/andrewCNN.csv')"
   ]
  },
  {
   "cell_type": "code",
   "execution_count": 3,
   "metadata": {},
   "outputs": [
    {
     "name": "stdout",
     "output_type": "stream",
     "text": [
      "avgH: 0.31897285366310446\n",
      "stdH: 0.0210403599476377\n",
      "avgC: 0.31847419353204753\n",
      "stdC: 0.021405591431725202\n",
      "timeH: 0.08643324617026509\n",
      "timeH STD: 0.01936360172339961\n",
      "timeC: 0.9484721518945003\n",
      "timeC STD: 0.23441716009583763\n",
      "acc50H: 1.0\n",
      "acc55H: 1.0\n",
      "acc60H: 1.0\n",
      "acc50C: 1.0\n",
      "acc55C: 1.0\n",
      "acc60C: 1.0\n"
     ]
    }
   ],
   "source": [
    "length = len(dfH['andrewYang'])\n",
    "lengthC = len(dfC['andrewYang'])\n",
    "dfH['Match50'] = np.where(dfH['andrewYang']<=0.50,True,False)\n",
    "dfH['Match55'] = np.where(dfH['andrewYang']<=0.55,True,False)\n",
    "dfH['Match60'] = np.where(dfH['andrewYang']<=0.60,True,False)\n",
    "dfC['Match50'] = np.where(dfC['andrewYang']<=0.50,True,False)\n",
    "dfC['Match55'] = np.where(dfC['andrewYang']<=0.55,True,False)\n",
    "dfC['Match60'] = np.where(dfC['andrewYang']<=0.60,True,False)\n",
    "\n",
    "avgH = sum(dfH['andrewYang']) / len(dfH['andrewYang'])\n",
    "print('avgH: '+str(avgH))\n",
    "stdH = np.std(dfH['andrewYang'])\n",
    "print('stdH: '+str(stdH))\n",
    "avgC = sum(dfC['andrewYang']) / len(dfC['andrewYang'])\n",
    "print('avgC: '+str(avgC))\n",
    "stdC = np.std(dfC['andrewYang'])\n",
    "print('stdC: '+str(stdC))\n",
    "timeH = sum(dfH.Time)/len(dfH.Time)\n",
    "print('timeH: '+str(timeH))\n",
    "tSTDh = np.std(dfH.Time)\n",
    "print('timeH STD: '+str(tSTDh))\n",
    "timeC = sum(dfC.Time)/len(dfC.Time)\n",
    "print('timeC: '+str(timeC))\n",
    "tSTDc = np.std(dfC.Time)\n",
    "print('timeC STD: '+str(tSTDc))\n",
    "print('acc50H: '+str(list(dfH['Match50']).count(True)/length))\n",
    "print('acc55H: '+str(list(dfH['Match55']).count(True)/length))\n",
    "print('acc60H: '+str(list(dfH['Match60']).count(True)/length))\n",
    "print('acc50C: '+str(list(dfC['Match50']).count(True)/lengthC))\n",
    "print('acc55C: '+str(list(dfC['Match55']).count(True)/lengthC))\n",
    "print('acc60C: '+str(list(dfC['Match60']).count(True)/lengthC))\n",
    "\n"
   ]
  },
  {
   "cell_type": "code",
   "execution_count": 95,
   "metadata": {},
   "outputs": [
    {
     "name": "stdout",
     "output_type": "stream",
     "text": [
      "match50H: 0.842809364548495\n",
      "match50C: 0.842809364548495\n"
     ]
    }
   ],
   "source": [
    "numsH = list(dfH['Match'] =='yamicheAlcindor')\n",
    "numsC = list(dfC['Match'] =='yamicheAlcindor')\n",
    "match50H = numsH.count(True)\n",
    "print('match50H: '+str(match50H/length))\n",
    "match50C = numsC.count(True)\n",
    "print('match50C: '+str(match50C/length))\n",
    "\n"
   ]
  },
  {
   "cell_type": "code",
   "execution_count": 33,
   "metadata": {},
   "outputs": [
    {
     "name": "stdout",
     "output_type": "stream",
     "text": [
      "avgH: 0.4275152585499559\n"
     ]
    }
   ],
   "source": [
    "avgH = sum(dfH['ZachSteinberg']) / len(dfH['ZachSteinberg'])\n",
    "print('avgH: '+str(avgH))"
   ]
  },
  {
   "cell_type": "code",
   "execution_count": 34,
   "metadata": {},
   "outputs": [
    {
     "name": "stdout",
     "output_type": "stream",
     "text": [
      "stdH: 0.029738856829788753\n"
     ]
    }
   ],
   "source": [
    "stdH = np.std(dfH['ZachSteinberg'])\n",
    "print('stdH: '+str(stdH))"
   ]
  },
  {
   "cell_type": "code",
   "execution_count": 39,
   "metadata": {},
   "outputs": [
    {
     "data": {
      "text/plain": [
       "7.416198487095663"
      ]
     },
     "execution_count": 39,
     "metadata": {},
     "output_type": "execute_result"
    }
   ],
   "source": [
    "x = np.array([1,2,3,4,5])\n",
    "np.linalg.norm(x)"
   ]
  },
  {
   "cell_type": "code",
   "execution_count": 115,
   "metadata": {},
   "outputs": [
    {
     "data": {
      "text/plain": [
       "184"
      ]
     },
     "execution_count": 115,
     "metadata": {},
     "output_type": "execute_result"
    }
   ],
   "source": [
    "list(dfC['Match55']).count(True)\n"
   ]
  },
  {
   "cell_type": "code",
   "execution_count": null,
   "metadata": {},
   "outputs": [],
   "source": []
  },
  {
   "cell_type": "code",
   "execution_count": null,
   "metadata": {},
   "outputs": [],
   "source": []
  }
 ],
 "metadata": {
  "kernelspec": {
   "display_name": "Python 3.7.6 64-bit",
   "language": "python",
   "name": "python37664bitace61cc4669b4b7487d2af57c61c3371"
  },
  "language_info": {
   "codemirror_mode": {
    "name": "ipython",
    "version": 3
   },
   "file_extension": ".py",
   "mimetype": "text/x-python",
   "name": "python",
   "nbconvert_exporter": "python",
   "pygments_lexer": "ipython3",
   "version": "3.7.6"
  }
 },
 "nbformat": 4,
 "nbformat_minor": 4
}
