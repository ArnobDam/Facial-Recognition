{
 "cells": [
  {
   "cell_type": "code",
   "execution_count": 2,
   "metadata": {},
   "outputs": [],
   "source": [
    "import pandas as pd\n",
    "import numpy as np"
   ]
  },
  {
   "cell_type": "code",
   "execution_count": 11,
   "metadata": {},
   "outputs": [],
   "source": [
    "df = pd.read_csv('csv/zachCNN.csv')"
   ]
  },
  {
   "cell_type": "code",
   "execution_count": 12,
   "metadata": {},
   "outputs": [
    {
     "data": {
      "text/html": [
       "<div>\n",
       "<style scoped>\n",
       "    .dataframe tbody tr th:only-of-type {\n",
       "        vertical-align: middle;\n",
       "    }\n",
       "\n",
       "    .dataframe tbody tr th {\n",
       "        vertical-align: top;\n",
       "    }\n",
       "\n",
       "    .dataframe thead th {\n",
       "        text-align: right;\n",
       "    }\n",
       "</style>\n",
       "<table border=\"1\" class=\"dataframe\">\n",
       "  <thead>\n",
       "    <tr style=\"text-align: right;\">\n",
       "      <th></th>\n",
       "      <th>Unnamed: 0</th>\n",
       "      <th>ZachSteinberg</th>\n",
       "      <th>lukeSkywalker</th>\n",
       "      <th>tomHanks</th>\n",
       "      <th>MichaelPichardo</th>\n",
       "      <th>DylanZubata</th>\n",
       "      <th>ArnobDam</th>\n",
       "      <th>Match</th>\n",
       "      <th>Time</th>\n",
       "    </tr>\n",
       "  </thead>\n",
       "  <tbody>\n",
       "    <tr>\n",
       "      <th>0</th>\n",
       "      <td>0</td>\n",
       "      <td>0.360175</td>\n",
       "      <td>0.792843</td>\n",
       "      <td>0.619488</td>\n",
       "      <td>0.726662</td>\n",
       "      <td>0.765432</td>\n",
       "      <td>0.734075</td>\n",
       "      <td>ZachSteinberg</td>\n",
       "      <td>2.914571</td>\n",
       "    </tr>\n",
       "    <tr>\n",
       "      <th>1</th>\n",
       "      <td>1</td>\n",
       "      <td>0.354539</td>\n",
       "      <td>0.796950</td>\n",
       "      <td>0.613035</td>\n",
       "      <td>0.722013</td>\n",
       "      <td>0.765352</td>\n",
       "      <td>0.725164</td>\n",
       "      <td>ZachSteinberg</td>\n",
       "      <td>2.719369</td>\n",
       "    </tr>\n",
       "    <tr>\n",
       "      <th>2</th>\n",
       "      <td>2</td>\n",
       "      <td>0.343917</td>\n",
       "      <td>0.790174</td>\n",
       "      <td>0.610501</td>\n",
       "      <td>0.713531</td>\n",
       "      <td>0.749863</td>\n",
       "      <td>0.714752</td>\n",
       "      <td>ZachSteinberg</td>\n",
       "      <td>2.729896</td>\n",
       "    </tr>\n",
       "    <tr>\n",
       "      <th>3</th>\n",
       "      <td>3</td>\n",
       "      <td>0.348562</td>\n",
       "      <td>0.804942</td>\n",
       "      <td>0.617004</td>\n",
       "      <td>0.710675</td>\n",
       "      <td>0.762581</td>\n",
       "      <td>0.726295</td>\n",
       "      <td>ZachSteinberg</td>\n",
       "      <td>2.703764</td>\n",
       "    </tr>\n",
       "    <tr>\n",
       "      <th>4</th>\n",
       "      <td>4</td>\n",
       "      <td>0.342294</td>\n",
       "      <td>0.802953</td>\n",
       "      <td>0.614659</td>\n",
       "      <td>0.706574</td>\n",
       "      <td>0.757725</td>\n",
       "      <td>0.733801</td>\n",
       "      <td>ZachSteinberg</td>\n",
       "      <td>2.745015</td>\n",
       "    </tr>\n",
       "    <tr>\n",
       "      <th>...</th>\n",
       "      <td>...</td>\n",
       "      <td>...</td>\n",
       "      <td>...</td>\n",
       "      <td>...</td>\n",
       "      <td>...</td>\n",
       "      <td>...</td>\n",
       "      <td>...</td>\n",
       "      <td>...</td>\n",
       "      <td>...</td>\n",
       "    </tr>\n",
       "    <tr>\n",
       "      <th>68</th>\n",
       "      <td>68</td>\n",
       "      <td>0.431253</td>\n",
       "      <td>0.764525</td>\n",
       "      <td>0.635536</td>\n",
       "      <td>0.754778</td>\n",
       "      <td>0.793070</td>\n",
       "      <td>0.752896</td>\n",
       "      <td>ZachSteinberg</td>\n",
       "      <td>2.616783</td>\n",
       "    </tr>\n",
       "    <tr>\n",
       "      <th>69</th>\n",
       "      <td>69</td>\n",
       "      <td>0.429935</td>\n",
       "      <td>0.770449</td>\n",
       "      <td>0.635474</td>\n",
       "      <td>0.748760</td>\n",
       "      <td>0.796954</td>\n",
       "      <td>0.749001</td>\n",
       "      <td>ZachSteinberg</td>\n",
       "      <td>2.628157</td>\n",
       "    </tr>\n",
       "    <tr>\n",
       "      <th>70</th>\n",
       "      <td>70</td>\n",
       "      <td>0.433988</td>\n",
       "      <td>0.766460</td>\n",
       "      <td>0.622938</td>\n",
       "      <td>0.736677</td>\n",
       "      <td>0.786011</td>\n",
       "      <td>0.746600</td>\n",
       "      <td>ZachSteinberg</td>\n",
       "      <td>2.634812</td>\n",
       "    </tr>\n",
       "    <tr>\n",
       "      <th>71</th>\n",
       "      <td>71</td>\n",
       "      <td>0.436082</td>\n",
       "      <td>0.784886</td>\n",
       "      <td>0.622121</td>\n",
       "      <td>0.748668</td>\n",
       "      <td>0.788121</td>\n",
       "      <td>0.748943</td>\n",
       "      <td>ZachSteinberg</td>\n",
       "      <td>2.666371</td>\n",
       "    </tr>\n",
       "    <tr>\n",
       "      <th>72</th>\n",
       "      <td>72</td>\n",
       "      <td>0.443317</td>\n",
       "      <td>0.804589</td>\n",
       "      <td>0.622410</td>\n",
       "      <td>0.768247</td>\n",
       "      <td>0.791349</td>\n",
       "      <td>0.744711</td>\n",
       "      <td>ZachSteinberg</td>\n",
       "      <td>2.633968</td>\n",
       "    </tr>\n",
       "  </tbody>\n",
       "</table>\n",
       "<p>73 rows × 9 columns</p>\n",
       "</div>"
      ],
      "text/plain": [
       "    Unnamed: 0  ZachSteinberg  lukeSkywalker  tomHanks  MichaelPichardo  \\\n",
       "0            0       0.360175       0.792843  0.619488         0.726662   \n",
       "1            1       0.354539       0.796950  0.613035         0.722013   \n",
       "2            2       0.343917       0.790174  0.610501         0.713531   \n",
       "3            3       0.348562       0.804942  0.617004         0.710675   \n",
       "4            4       0.342294       0.802953  0.614659         0.706574   \n",
       "..         ...            ...            ...       ...              ...   \n",
       "68          68       0.431253       0.764525  0.635536         0.754778   \n",
       "69          69       0.429935       0.770449  0.635474         0.748760   \n",
       "70          70       0.433988       0.766460  0.622938         0.736677   \n",
       "71          71       0.436082       0.784886  0.622121         0.748668   \n",
       "72          72       0.443317       0.804589  0.622410         0.768247   \n",
       "\n",
       "    DylanZubata  ArnobDam          Match      Time  \n",
       "0      0.765432  0.734075  ZachSteinberg  2.914571  \n",
       "1      0.765352  0.725164  ZachSteinberg  2.719369  \n",
       "2      0.749863  0.714752  ZachSteinberg  2.729896  \n",
       "3      0.762581  0.726295  ZachSteinberg  2.703764  \n",
       "4      0.757725  0.733801  ZachSteinberg  2.745015  \n",
       "..          ...       ...            ...       ...  \n",
       "68     0.793070  0.752896  ZachSteinberg  2.616783  \n",
       "69     0.796954  0.749001  ZachSteinberg  2.628157  \n",
       "70     0.786011  0.746600  ZachSteinberg  2.634812  \n",
       "71     0.788121  0.748943  ZachSteinberg  2.666371  \n",
       "72     0.791349  0.744711  ZachSteinberg  2.633968  \n",
       "\n",
       "[73 rows x 9 columns]"
      ]
     },
     "execution_count": 12,
     "metadata": {},
     "output_type": "execute_result"
    }
   ],
   "source": [
    "df"
   ]
  },
  {
   "cell_type": "code",
   "execution_count": 14,
   "metadata": {},
   "outputs": [
    {
     "data": {
      "text/html": [
       "<div>\n",
       "<style scoped>\n",
       "    .dataframe tbody tr th:only-of-type {\n",
       "        vertical-align: middle;\n",
       "    }\n",
       "\n",
       "    .dataframe tbody tr th {\n",
       "        vertical-align: top;\n",
       "    }\n",
       "\n",
       "    .dataframe thead th {\n",
       "        text-align: right;\n",
       "    }\n",
       "</style>\n",
       "<table border=\"1\" class=\"dataframe\">\n",
       "  <thead>\n",
       "    <tr style=\"text-align: right;\">\n",
       "      <th></th>\n",
       "      <th>Unnamed: 0</th>\n",
       "      <th>ZachSteinberg</th>\n",
       "      <th>Match</th>\n",
       "      <th>Time</th>\n",
       "    </tr>\n",
       "  </thead>\n",
       "  <tbody>\n",
       "    <tr>\n",
       "      <th>0</th>\n",
       "      <td>0</td>\n",
       "      <td>0.360175</td>\n",
       "      <td>ZachSteinberg</td>\n",
       "      <td>3.672919</td>\n",
       "    </tr>\n",
       "    <tr>\n",
       "      <th>1</th>\n",
       "      <td>1</td>\n",
       "      <td>0.354539</td>\n",
       "      <td>ZachSteinberg</td>\n",
       "      <td>2.906545</td>\n",
       "    </tr>\n",
       "    <tr>\n",
       "      <th>2</th>\n",
       "      <td>2</td>\n",
       "      <td>0.343917</td>\n",
       "      <td>ZachSteinberg</td>\n",
       "      <td>4.201861</td>\n",
       "    </tr>\n",
       "    <tr>\n",
       "      <th>3</th>\n",
       "      <td>3</td>\n",
       "      <td>0.348562</td>\n",
       "      <td>ZachSteinberg</td>\n",
       "      <td>3.901776</td>\n",
       "    </tr>\n",
       "    <tr>\n",
       "      <th>4</th>\n",
       "      <td>4</td>\n",
       "      <td>0.342294</td>\n",
       "      <td>ZachSteinberg</td>\n",
       "      <td>3.521155</td>\n",
       "    </tr>\n",
       "  </tbody>\n",
       "</table>\n",
       "</div>"
      ],
      "text/plain": [
       "   Unnamed: 0  ZachSteinberg          Match      Time\n",
       "0           0       0.360175  ZachSteinberg  3.672919\n",
       "1           1       0.354539  ZachSteinberg  2.906545\n",
       "2           2       0.343917  ZachSteinberg  4.201861\n",
       "3           3       0.348562  ZachSteinberg  3.901776\n",
       "4           4       0.342294  ZachSteinberg  3.521155"
      ]
     },
     "execution_count": 14,
     "metadata": {},
     "output_type": "execute_result"
    }
   ],
   "source": [
    "df.head()"
   ]
  },
  {
   "cell_type": "code",
   "execution_count": 21,
   "metadata": {},
   "outputs": [
    {
     "data": {
      "text/plain": [
       "0.4606681586328216"
      ]
     },
     "execution_count": 21,
     "metadata": {},
     "output_type": "execute_result"
    }
   ],
   "source": [
    "avg = sum(df['DylanZubata']) / len(df['DylanZubata'])\n",
    "avg"
   ]
  },
  {
   "cell_type": "code",
   "execution_count": 32,
   "metadata": {},
   "outputs": [
    {
     "data": {
      "text/plain": [
       "0.49657220765138615"
      ]
     },
     "execution_count": 32,
     "metadata": {},
     "output_type": "execute_result"
    }
   ],
   "source": [
    "avg = sum(df['MichaelPichardo']) / len(df['MichaelPichardo'])\n",
    "avg"
   ]
  },
  {
   "cell_type": "code",
   "execution_count": 10,
   "metadata": {},
   "outputs": [
    {
     "data": {
      "text/plain": [
       "0.4075152585499558"
      ]
     },
     "execution_count": 10,
     "metadata": {},
     "output_type": "execute_result"
    }
   ],
   "source": [
    "avg = sum(df['ZachSteinberg']) / len(df['ZachSteinberg'])\n",
    "avg"
   ]
  },
  {
   "cell_type": "code",
   "execution_count": 13,
   "metadata": {},
   "outputs": [
    {
     "data": {
      "text/plain": [
       "0.40789663106519247"
      ]
     },
     "execution_count": 13,
     "metadata": {},
     "output_type": "execute_result"
    }
   ],
   "source": [
    "avg = sum(df['ZachSteinberg']) / len(df['ZachSteinberg'])\n",
    "avg"
   ]
  },
  {
   "cell_type": "code",
   "execution_count": 5,
   "metadata": {},
   "outputs": [
    {
     "data": {
      "text/plain": [
       "0.5135738365690873"
      ]
     },
     "execution_count": 5,
     "metadata": {},
     "output_type": "execute_result"
    }
   ],
   "source": [
    "avg = sum(df['daisyRidley']) / len(df['daisyRidley'])\n",
    "avg"
   ]
  },
  {
   "cell_type": "code",
   "execution_count": 8,
   "metadata": {},
   "outputs": [
    {
     "data": {
      "text/plain": [
       "0.5143478162080853"
      ]
     },
     "execution_count": 8,
     "metadata": {},
     "output_type": "execute_result"
    }
   ],
   "source": [
    "avg = sum(df['daisyRidley']) / len(df['daisyRidley'])\n",
    "avg"
   ]
  },
  {
   "cell_type": "code",
   "execution_count": 29,
   "metadata": {},
   "outputs": [
    {
     "data": {
      "text/plain": [
       "0.5296164146758512"
      ]
     },
     "execution_count": 29,
     "metadata": {},
     "output_type": "execute_result"
    }
   ],
   "source": [
    "no = df[df.Match=='No Match']\n",
    "sum(no.DylanZubata)/len(no.DylanZubata)"
   ]
  },
  {
   "cell_type": "code",
   "execution_count": 33,
   "metadata": {},
   "outputs": [
    {
     "data": {
      "text/plain": [
       "0.5209005578137453"
      ]
     },
     "execution_count": 33,
     "metadata": {},
     "output_type": "execute_result"
    }
   ],
   "source": [
    "no = df[df.Match=='No Match']\n",
    "sum(no.MichaelPichardo)/len(no.MichaelPichardo)"
   ]
  },
  {
   "cell_type": "code",
   "execution_count": 16,
   "metadata": {},
   "outputs": [
    {
     "ename": "ZeroDivisionError",
     "evalue": "division by zero",
     "output_type": "error",
     "traceback": [
      "\u001b[0;31m---------------------------------------------------------------------------\u001b[0m",
      "\u001b[0;31mZeroDivisionError\u001b[0m                         Traceback (most recent call last)",
      "\u001b[0;32m<ipython-input-16-638d7f5b0802>\u001b[0m in \u001b[0;36m<module>\u001b[0;34m\u001b[0m\n\u001b[1;32m      1\u001b[0m \u001b[0mno\u001b[0m \u001b[0;34m=\u001b[0m \u001b[0mdf\u001b[0m\u001b[0;34m[\u001b[0m\u001b[0mdf\u001b[0m\u001b[0;34m.\u001b[0m\u001b[0mMatch\u001b[0m\u001b[0;34m==\u001b[0m\u001b[0;34m'No Match'\u001b[0m\u001b[0;34m]\u001b[0m\u001b[0;34m\u001b[0m\u001b[0;34m\u001b[0m\u001b[0m\n\u001b[0;32m----> 2\u001b[0;31m \u001b[0msum\u001b[0m\u001b[0;34m(\u001b[0m\u001b[0mno\u001b[0m\u001b[0;34m.\u001b[0m\u001b[0mZachSteinberg\u001b[0m\u001b[0;34m)\u001b[0m\u001b[0;34m/\u001b[0m\u001b[0mlen\u001b[0m\u001b[0;34m(\u001b[0m\u001b[0mno\u001b[0m\u001b[0;34m.\u001b[0m\u001b[0mZachSteinberg\u001b[0m\u001b[0;34m)\u001b[0m\u001b[0;34m\u001b[0m\u001b[0;34m\u001b[0m\u001b[0m\n\u001b[0m",
      "\u001b[0;31mZeroDivisionError\u001b[0m: division by zero"
     ]
    }
   ],
   "source": [
    "no = df[df.Match=='No Match']\n",
    "sum(no.ZachSteinberg)/len(no.ZachSteinberg)"
   ]
  },
  {
   "cell_type": "code",
   "execution_count": 18,
   "metadata": {},
   "outputs": [],
   "source": [
    "time = df.Time"
   ]
  },
  {
   "cell_type": "code",
   "execution_count": 21,
   "metadata": {},
   "outputs": [
    {
     "data": {
      "text/plain": [
       "3.4768653177235223"
      ]
     },
     "execution_count": 21,
     "metadata": {},
     "output_type": "execute_result"
    }
   ],
   "source": [
    "avg_time = sum(df.Time)/len(df.Time)\n",
    "avg_time"
   ]
  },
  {
   "cell_type": "code",
   "execution_count": 23,
   "metadata": {},
   "outputs": [
    {
     "name": "stdout",
     "output_type": "stream",
     "text": [
      "0.45025163191921597\n",
      "0.33492743571613703\n"
     ]
    }
   ],
   "source": [
    "print(max(df.ZachSteinberg))\n",
    "print(min(df.ZachSteinberg))"
   ]
  },
  {
   "cell_type": "code",
   "execution_count": 25,
   "metadata": {},
   "outputs": [
    {
     "data": {
      "text/plain": [
       "0.0301430281873532"
      ]
     },
     "execution_count": 25,
     "metadata": {},
     "output_type": "execute_result"
    }
   ],
   "source": [
    "np.std(df.ZachSteinberg)"
   ]
  },
  {
   "cell_type": "code",
   "execution_count": null,
   "metadata": {},
   "outputs": [],
   "source": []
  }
 ],
 "metadata": {
  "kernelspec": {
   "display_name": "Python 3.7.6 64-bit",
   "language": "python",
   "name": "python37664bitace61cc4669b4b7487d2af57c61c3371"
  },
  "language_info": {
   "codemirror_mode": {
    "name": "ipython",
    "version": 3
   },
   "file_extension": ".py",
   "mimetype": "text/x-python",
   "name": "python",
   "nbconvert_exporter": "python",
   "pygments_lexer": "ipython3",
   "version": "3.7.6"
  }
 },
 "nbformat": 4,
 "nbformat_minor": 4
}
